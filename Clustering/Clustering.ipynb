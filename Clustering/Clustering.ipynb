{
 "cells": [
  {
   "cell_type": "markdown",
   "id": "722306d7-338d-4375-bfa8-d7aef8b0e09a",
   "metadata": {},
   "source": [
    "# K-MEANS CLUSTERING"
   ]
  },
  {
   "cell_type": "markdown",
   "id": "51f354a1-acac-47a5-acbf-fc81865f134d",
   "metadata": {},
   "source": [
    "The following steps are used in K-means clustering algorithm:\n",
    "1. Decide the value of K (which can be fine-tuned later).\n",
    "2. Choose K observations from the data that are likely to be in different clusters. There are many\n",
    "ways of choosing these initial K values; the easiest approach is to choose observations that are\n",
    "farthest (in one of the parameters of the data).\n",
    "3. The K observations selected in step 2 are the centroids of those clusters.\n",
    "4. For remaining observations, find the cluster closest to the centroid. Add the new observation (say\n",
    "observation j) to the cluster with the closest centroid. Adjust the centroid after adding a new obser-\n",
    "vation to the cluster. The closest centroid is chosen based upon an appropriate distance measure.\n",
    "5. Repeat step 4 until all observations are assigned to a cluster."
   ]
  },
  {
   "cell_type": "code",
   "execution_count": 1,
   "id": "eef41f56-e5a3-4ce2-987c-3f1a6508786d",
   "metadata": {},
   "outputs": [],
   "source": [
    "import numpy as np\n",
    "import pandas as pd\n",
    "import matplotlib.pyplot as plt\n",
    "%matplotlib inline\n",
    "import seaborn as sn"
   ]
  },
  {
   "cell_type": "code",
   "execution_count": 2,
   "id": "8877a09f-5fe8-4c72-a594-0677012147cf",
   "metadata": {},
   "outputs": [
    {
     "data": {
      "text/html": [
       "<div>\n",
       "<style scoped>\n",
       "    .dataframe tbody tr th:only-of-type {\n",
       "        vertical-align: middle;\n",
       "    }\n",
       "\n",
       "    .dataframe tbody tr th {\n",
       "        vertical-align: top;\n",
       "    }\n",
       "\n",
       "    .dataframe thead th {\n",
       "        text-align: right;\n",
       "    }\n",
       "</style>\n",
       "<table border=\"1\" class=\"dataframe\">\n",
       "  <thead>\n",
       "    <tr style=\"text-align: right;\">\n",
       "      <th></th>\n",
       "      <th>income</th>\n",
       "      <th>age</th>\n",
       "    </tr>\n",
       "  </thead>\n",
       "  <tbody>\n",
       "    <tr>\n",
       "      <th>0</th>\n",
       "      <td>41100.0</td>\n",
       "      <td>48.75</td>\n",
       "    </tr>\n",
       "    <tr>\n",
       "      <th>1</th>\n",
       "      <td>54100.0</td>\n",
       "      <td>28.10</td>\n",
       "    </tr>\n",
       "    <tr>\n",
       "      <th>2</th>\n",
       "      <td>47800.0</td>\n",
       "      <td>46.75</td>\n",
       "    </tr>\n",
       "    <tr>\n",
       "      <th>3</th>\n",
       "      <td>19100.0</td>\n",
       "      <td>40.25</td>\n",
       "    </tr>\n",
       "    <tr>\n",
       "      <th>4</th>\n",
       "      <td>18200.0</td>\n",
       "      <td>35.80</td>\n",
       "    </tr>\n",
       "  </tbody>\n",
       "</table>\n",
       "</div>"
      ],
      "text/plain": [
       "    income    age\n",
       "0  41100.0  48.75\n",
       "1  54100.0  28.10\n",
       "2  47800.0  46.75\n",
       "3  19100.0  40.25\n",
       "4  18200.0  35.80"
      ]
     },
     "execution_count": 2,
     "metadata": {},
     "output_type": "execute_result"
    }
   ],
   "source": [
    "df = pd.read_csv(\"Income Data.csv\")\n",
    "df.head()"
   ]
  },
  {
   "cell_type": "code",
   "execution_count": 3,
   "id": "4cb9c993-c8e5-4bc7-86c5-d75fb0394b5e",
   "metadata": {},
   "outputs": [
    {
     "name": "stderr",
     "output_type": "stream",
     "text": [
      "/home/ankit/anaconda3/lib/python3.8/site-packages/seaborn/_decorators.py:36: FutureWarning: Pass the following variables as keyword args: x, y. From version 0.12, the only valid positional argument will be `data`, and passing other arguments without an explicit keyword will result in an error or misinterpretation.\n",
      "  warnings.warn(\n",
      "/home/ankit/anaconda3/lib/python3.8/site-packages/seaborn/regression.py:580: UserWarning: The `size` parameter has been renamed to `height`; please update your code.\n",
      "  warnings.warn(msg, UserWarning)\n"
     ]
    },
    {
     "data": {
      "image/png": "[encoded data removed]",
      "text/plain": [
       "<Figure size 288x288 with 1 Axes>"
      ]
     },
     "metadata": {
      "needs_background": "light"
     },
     "output_type": "display_data"
    }
   ],
   "source": [
    "sn.lmplot(\"age\", \"income\", data=df, fit_reg = False,size = 4);"
   ]
  },
  {
   "cell_type": "markdown",
   "id": "012b887a-e2d9-4b4f-938d-bb9236badae8",
   "metadata": {},
   "source": [
    "## K means model creation"
   ]
  },
  {
   "cell_type": "code",
   "execution_count": 4,
   "id": "80da051f-e4f6-45af-9164-1fcb01a563b2",
   "metadata": {},
   "outputs": [],
   "source": [
    "from sklearn.cluster import KMeans"
   ]
  },
  {
   "cell_type": "code",
   "execution_count": 5,
   "id": "93a616ed-b007-4129-be58-d0b6ad52f240",
   "metadata": {},
   "outputs": [
    {
     "data": {
      "text/plain": [
       "KMeans(n_clusters=3)"
      ]
     },
     "execution_count": 5,
     "metadata": {},
     "output_type": "execute_result"
    }
   ],
   "source": [
    "clusters = KMeans(3)\n",
    "clusters.fit(df)"
   ]
  },
  {
   "cell_type": "code",
   "execution_count": 7,
   "id": "adc4a02a-aa8b-4f53-a439-cad311cf3638",
   "metadata": {},
   "outputs": [],
   "source": [
    "df[\"clusterid\"] = clusters.labels_"
   ]
  },
  {
   "cell_type": "code",
   "execution_count": 12,
   "id": "46a06708-df40-4cf0-b490-8f224d816294",
   "metadata": {},
   "outputs": [
    {
     "data": {
      "text/html": [
       "<div>\n",
       "<style scoped>\n",
       "    .dataframe tbody tr th:only-of-type {\n",
       "        vertical-align: middle;\n",
       "    }\n",
       "\n",
       "    .dataframe tbody tr th {\n",
       "        vertical-align: top;\n",
       "    }\n",
       "\n",
       "    .dataframe thead th {\n",
       "        text-align: right;\n",
       "    }\n",
       "</style>\n",
       "<table border=\"1\" class=\"dataframe\">\n",
       "  <thead>\n",
       "    <tr style=\"text-align: right;\">\n",
       "      <th></th>\n",
       "      <th>income</th>\n",
       "      <th>age</th>\n",
       "      <th>clusterid</th>\n",
       "    </tr>\n",
       "  </thead>\n",
       "  <tbody>\n",
       "    <tr>\n",
       "      <th>0</th>\n",
       "      <td>41100.0</td>\n",
       "      <td>48.75</td>\n",
       "      <td>1</td>\n",
       "    </tr>\n",
       "    <tr>\n",
       "      <th>1</th>\n",
       "      <td>54100.0</td>\n",
       "      <td>28.10</td>\n",
       "      <td>2</td>\n",
       "    </tr>\n",
       "    <tr>\n",
       "      <th>2</th>\n",
       "      <td>47800.0</td>\n",
       "      <td>46.75</td>\n",
       "      <td>1</td>\n",
       "    </tr>\n",
       "    <tr>\n",
       "      <th>3</th>\n",
       "      <td>19100.0</td>\n",
       "      <td>40.25</td>\n",
       "      <td>0</td>\n",
       "    </tr>\n",
       "    <tr>\n",
       "      <th>4</th>\n",
       "      <td>18200.0</td>\n",
       "      <td>35.80</td>\n",
       "      <td>0</td>\n",
       "    </tr>\n",
       "  </tbody>\n",
       "</table>\n",
       "</div>"
      ],
      "text/plain": [
       "    income    age  clusterid\n",
       "0  41100.0  48.75          1\n",
       "1  54100.0  28.10          2\n",
       "2  47800.0  46.75          1\n",
       "3  19100.0  40.25          0\n",
       "4  18200.0  35.80          0"
      ]
     },
     "execution_count": 12,
     "metadata": {},
     "output_type": "execute_result"
    }
   ],
   "source": [
    "df.head()"
   ]
  },
  {
   "cell_type": "code",
   "execution_count": 13,
   "id": "03ede4cb-35ff-4920-852a-6071299cf3b0",
   "metadata": {},
   "outputs": [
    {
     "name": "stderr",
     "output_type": "stream",
     "text": [
      "/home/ankit/anaconda3/lib/python3.8/site-packages/seaborn/_decorators.py:36: FutureWarning: Pass the following variables as keyword args: x, y. From version 0.12, the only valid positional argument will be `data`, and passing other arguments without an explicit keyword will result in an error or misinterpretation.\n",
      "  warnings.warn(\n",
      "/home/ankit/anaconda3/lib/python3.8/site-packages/seaborn/regression.py:580: UserWarning: The `size` parameter has been renamed to `height`; please update your code.\n",
      "  warnings.warn(msg, UserWarning)\n"
     ]
    },
    {
     "data": {
      "text/plain": [
       "<seaborn.axisgrid.FacetGrid at 0x7f1644dd6f70>"
      ]
     },
     "execution_count": 13,
     "metadata": {},
     "output_type": "execute_result"
    },
    {
     "data": {
      "image/png": "[encoded data removed]",
      "text/plain": [
       "<Figure size 339.375x288 with 1 Axes>"
      ]
     },
     "metadata": {
      "needs_background": "light"
     },
     "output_type": "display_data"
    }
   ],
   "source": [
    "markers = [\"+\",\"^\",\".\"]\n",
    "sn.lmplot(\"age\", \"income\",data = df,hue = \"clusterid\",fit_reg = False,markers = markers,size = 4)"
   ]
  },
  {
   "cell_type": "markdown",
   "id": "203de2fa-f15c-48f6-bcbf-1c2270c835e2",
   "metadata": {},
   "source": [
    "## Normalizing Features"
   ]
  },
  {
   "cell_type": "markdown",
   "id": "10830b12-1b02-460f-897c-c597161cd799",
   "metadata": {},
   "source": [
    "from sklearn.preprocessing import StandardScaler"
   ]
  },
  {
   "cell_type": "code",
   "execution_count": 14,
   "id": "635c00ca-1ce0-48b6-a945-8c536efd09b0",
   "metadata": {},
   "outputs": [],
   "source": [
    "from sklearn.preprocessing import StandardScaler"
   ]
  },
  {
   "cell_type": "code",
   "execution_count": 15,
   "id": "2b685880-ad6a-4d18-92e0-b2ba0750bc4d",
   "metadata": {},
   "outputs": [
    {
     "data": {
      "text/plain": [
       "array([[ 1.3701637 ,  0.09718548],\n",
       "       [-1.3791283 ,  0.90602749],\n",
       "       [ 1.10388844,  0.51405021],\n",
       "       [ 0.23849387, -1.27162408],\n",
       "       [-0.35396857, -1.32762083]])"
      ]
     },
     "execution_count": 15,
     "metadata": {},
     "output_type": "execute_result"
    }
   ],
   "source": [
    "scaler = StandardScaler()\n",
    "scaled_customers_df = scaler.fit_transform(df[[\"age\",\"income\"]])\n",
    "scaled_customers_df[0:5]"
   ]
  },
  {
   "cell_type": "code",
   "execution_count": 16,
   "id": "fc0c453b-a6fc-42b7-a729-4c2235759b25",
   "metadata": {},
   "outputs": [],
   "source": [
    "from sklearn.cluster import KMeans\n",
    "clusters_new = KMeans(3, random_state=42)\n",
    "clusters_new.fit(scaled_customers_df)\n",
    "df[\"clusterid_new\"] = clusters_new.labels_"
   ]
  },
  {
   "cell_type": "code",
   "execution_count": 17,
   "id": "af7c69f8-70c7-4240-8288-caf291e66227",
   "metadata": {},
   "outputs": [
    {
     "name": "stderr",
     "output_type": "stream",
     "text": [
      "/home/ankit/anaconda3/lib/python3.8/site-packages/seaborn/_decorators.py:36: FutureWarning: Pass the following variables as keyword args: x, y. From version 0.12, the only valid positional argument will be `data`, and passing other arguments without an explicit keyword will result in an error or misinterpretation.\n",
      "  warnings.warn(\n",
      "/home/ankit/anaconda3/lib/python3.8/site-packages/seaborn/regression.py:580: UserWarning: The `size` parameter has been renamed to `height`; please update your code.\n",
      "  warnings.warn(msg, UserWarning)\n"
     ]
    },
    {
     "data": {
      "text/plain": [
       "<seaborn.axisgrid.FacetGrid at 0x7f1644dd6790>"
      ]
     },
     "execution_count": 17,
     "metadata": {},
     "output_type": "execute_result"
    },
    {
     "data": {
      "image/png": "[encoded data removed]",
      "text/plain": [
       "<Figure size 365x288 with 1 Axes>"
      ]
     },
     "metadata": {
      "needs_background": "light"
     },
     "output_type": "display_data"
    }
   ],
   "source": [
    "markers = [\"+\",\"^\",\".\"]\n",
    "sn.lmplot(\"age\", \"income\",data = df,hue = \"clusterid_new\",fit_reg = False,markers = markers,size = 4)"
   ]
  },
  {
   "cell_type": "code",
   "execution_count": 18,
   "id": "eb3fed55-bd04-4cf8-8203-65d85e2f71a7",
   "metadata": {},
   "outputs": [
    {
     "data": {
      "text/plain": [
       "array([[1.81447917e+04, 3.91744792e+01],\n",
       "       [4.30539326e+04, 4.64191011e+01],\n",
       "       [5.46756522e+04, 3.17004348e+01]])"
      ]
     },
     "execution_count": 18,
     "metadata": {},
     "output_type": "execute_result"
    }
   ],
   "source": [
    "clusters.cluster_centers_"
   ]
  },
  {
   "cell_type": "markdown",
   "id": "38890f0f-682f-4c93-a531-6d7fffcba1a2",
   "metadata": {},
   "source": [
    "## Summarizing model"
   ]
  },
  {
   "cell_type": "code",
   "execution_count": 19,
   "id": "1e91d148-e9ac-4a00-b6de-024f3e23569c",
   "metadata": {},
   "outputs": [
    {
     "name": "stderr",
     "output_type": "stream",
     "text": [
      "<ipython-input-19-b6efdae2aabd>:1: FutureWarning: Indexing with multiple keys (implicitly converted to a tuple of keys) will be deprecated, use a list instead.\n",
      "  df.groupby(\"clusterid\")[\"age\",\"income\"].agg([\"mean\",\"std\"]).reset_index()\n"
     ]
    },
    {
     "data": {
      "text/html": [
       "<div>\n",
       "<style scoped>\n",
       "    .dataframe tbody tr th:only-of-type {\n",
       "        vertical-align: middle;\n",
       "    }\n",
       "\n",
       "    .dataframe tbody tr th {\n",
       "        vertical-align: top;\n",
       "    }\n",
       "\n",
       "    .dataframe thead tr th {\n",
       "        text-align: left;\n",
       "    }\n",
       "</style>\n",
       "<table border=\"1\" class=\"dataframe\">\n",
       "  <thead>\n",
       "    <tr>\n",
       "      <th></th>\n",
       "      <th>clusterid</th>\n",
       "      <th colspan=\"2\" halign=\"left\">age</th>\n",
       "      <th colspan=\"2\" halign=\"left\">income</th>\n",
       "    </tr>\n",
       "    <tr>\n",
       "      <th></th>\n",
       "      <th></th>\n",
       "      <th>mean</th>\n",
       "      <th>std</th>\n",
       "      <th>mean</th>\n",
       "      <th>std</th>\n",
       "    </tr>\n",
       "  </thead>\n",
       "  <tbody>\n",
       "    <tr>\n",
       "      <th>0</th>\n",
       "      <td>0</td>\n",
       "      <td>39.174479</td>\n",
       "      <td>3.626068</td>\n",
       "      <td>18144.791667</td>\n",
       "      <td>6745.241906</td>\n",
       "    </tr>\n",
       "    <tr>\n",
       "      <th>1</th>\n",
       "      <td>1</td>\n",
       "      <td>46.419101</td>\n",
       "      <td>2.289620</td>\n",
       "      <td>43053.932584</td>\n",
       "      <td>3613.769632</td>\n",
       "    </tr>\n",
       "    <tr>\n",
       "      <th>2</th>\n",
       "      <td>2</td>\n",
       "      <td>31.700435</td>\n",
       "      <td>6.122122</td>\n",
       "      <td>54675.652174</td>\n",
       "      <td>2362.224320</td>\n",
       "    </tr>\n",
       "  </tbody>\n",
       "</table>\n",
       "</div>"
      ],
      "text/plain": [
       "  clusterid        age                  income             \n",
       "                  mean       std          mean          std\n",
       "0         0  39.174479  3.626068  18144.791667  6745.241906\n",
       "1         1  46.419101  2.289620  43053.932584  3613.769632\n",
       "2         2  31.700435  6.122122  54675.652174  2362.224320"
      ]
     },
     "execution_count": 19,
     "metadata": {},
     "output_type": "execute_result"
    }
   ],
   "source": [
    "df.groupby(\"clusterid\")[\"age\",\"income\"].agg([\"mean\",\"std\"]).reset_index()"
   ]
  },
  {
   "cell_type": "code",
   "execution_count": null,
   "id": "e7869f15-a843-4ba4-a763-ecb33c6a3e33",
   "metadata": {},
   "outputs": [],
   "source": []
  }
 ],
 "metadata": {
  "kernelspec": {
   "display_name": "Python 3",
   "language": "python",
   "name": "python3"
  },
  "language_info": {
   "codemirror_mode": {
    "name": "ipython",
    "version": 3
   },
   "file_extension": ".py",
   "mimetype": "text/x-python",
   "name": "python",
   "nbconvert_exporter": "python",
   "pygments_lexer": "ipython3",
   "version": "3.8.8"
  }
 },
 "nbformat": 4,
 "nbformat_minor": 5
}
