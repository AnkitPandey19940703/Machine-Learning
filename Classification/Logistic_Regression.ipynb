{
 "cells": [
  {
   "cell_type": "code",
   "execution_count": 1,
   "metadata": {},
   "outputs": [
    {
     "name": "stdout",
     "output_type": "stream",
     "text": [
      "<class 'pandas.core.frame.DataFrame'>\n",
      "RangeIndex: 1000 entries, 0 to 999\n",
      "Data columns (total 14 columns):\n",
      "checkin_acc          1000 non-null object\n",
      "duration             1000 non-null int64\n",
      "credit_history       1000 non-null object\n",
      "amount               1000 non-null int64\n",
      "savings_acc          1000 non-null object\n",
      "present_emp_since    1000 non-null object\n",
      "inst_rate            1000 non-null int64\n",
      "personal_status      1000 non-null object\n",
      "residing_since       1000 non-null int64\n",
      "age                  1000 non-null int64\n",
      "inst_plans           1000 non-null object\n",
      "num_credits          1000 non-null int64\n",
      "job                  1000 non-null object\n",
      "status               1000 non-null int64\n",
      "dtypes: int64(7), object(7)\n",
      "memory usage: 109.5+ KB\n"
     ]
    }
   ],
   "source": [
    "import pandas as pd \n",
    "import numpy as np\n",
    "credit_df = pd.read_csv( \"German Credit Data.csv\" ) \n",
    "credit_df.info()"
   ]
  },
  {
   "cell_type": "code",
   "execution_count": 2,
   "metadata": {},
   "outputs": [
    {
     "data": {
      "text/plain": [
       "['checkin_acc',\n",
       " 'duration',\n",
       " 'credit_history',\n",
       " 'amount',\n",
       " 'savings_acc',\n",
       " 'present_emp_since',\n",
       " 'inst_rate',\n",
       " 'personal_status',\n",
       " 'residing_since',\n",
       " 'age',\n",
       " 'inst_plans',\n",
       " 'num_credits',\n",
       " 'job']"
      ]
     },
     "execution_count": 2,
     "metadata": {},
     "output_type": "execute_result"
    }
   ],
   "source": [
    "X_features = list( credit_df.columns ) \n",
    "X_features.remove( \"status\" ) \n",
    "X_features"
   ]
  },
  {
   "cell_type": "code",
   "execution_count": 3,
   "metadata": {},
   "outputs": [],
   "source": [
    "encoded_credit_df = pd.get_dummies(credit_df[X_features], \n",
    "drop_first = True)"
   ]
  },
  {
   "cell_type": "code",
   "execution_count": 4,
   "metadata": {},
   "outputs": [
    {
     "data": {
      "text/plain": [
       "['duration',\n",
       " 'amount',\n",
       " 'inst_rate',\n",
       " 'residing_since',\n",
       " 'age',\n",
       " 'num_credits',\n",
       " 'checkin_acc_A12',\n",
       " 'checkin_acc_A13',\n",
       " 'checkin_acc_A14',\n",
       " 'credit_history_A31',\n",
       " 'credit_history_A32',\n",
       " 'credit_history_A33',\n",
       " 'credit_history_A34',\n",
       " 'savings_acc_A62',\n",
       " 'savings_acc_A63',\n",
       " 'savings_acc_A64',\n",
       " 'savings_acc_A65',\n",
       " 'present_emp_since_A72',\n",
       " 'present_emp_since_A73',\n",
       " 'present_emp_since_A74',\n",
       " 'present_emp_since_A75',\n",
       " 'personal_status_A92',\n",
       " 'personal_status_A93',\n",
       " 'personal_status_A94',\n",
       " 'inst_plans_A142',\n",
       " 'inst_plans_A143',\n",
       " 'job_A172',\n",
       " 'job_A173',\n",
       " 'job_A174']"
      ]
     },
     "execution_count": 4,
     "metadata": {},
     "output_type": "execute_result"
    }
   ],
   "source": [
    "list(encoded_credit_df.columns)"
   ]
  },
  {
   "cell_type": "code",
   "execution_count": 5,
   "metadata": {},
   "outputs": [
    {
     "data": {
      "text/html": [
       "<div>\n",
       "<style scoped>\n",
       "    .dataframe tbody tr th:only-of-type {\n",
       "        vertical-align: middle;\n",
       "    }\n",
       "\n",
       "    .dataframe tbody tr th {\n",
       "        vertical-align: top;\n",
       "    }\n",
       "\n",
       "    .dataframe thead th {\n",
       "        text-align: right;\n",
       "    }\n",
       "</style>\n",
       "<table border=\"1\" class=\"dataframe\">\n",
       "  <thead>\n",
       "    <tr style=\"text-align: right;\">\n",
       "      <th></th>\n",
       "      <th>checkin_acc_A12</th>\n",
       "      <th>checkin_acc_A13</th>\n",
       "      <th>checkin_acc_A14</th>\n",
       "    </tr>\n",
       "  </thead>\n",
       "  <tbody>\n",
       "    <tr>\n",
       "      <td>0</td>\n",
       "      <td>0</td>\n",
       "      <td>0</td>\n",
       "      <td>0</td>\n",
       "    </tr>\n",
       "    <tr>\n",
       "      <td>1</td>\n",
       "      <td>1</td>\n",
       "      <td>0</td>\n",
       "      <td>0</td>\n",
       "    </tr>\n",
       "    <tr>\n",
       "      <td>2</td>\n",
       "      <td>0</td>\n",
       "      <td>0</td>\n",
       "      <td>1</td>\n",
       "    </tr>\n",
       "    <tr>\n",
       "      <td>3</td>\n",
       "      <td>0</td>\n",
       "      <td>0</td>\n",
       "      <td>0</td>\n",
       "    </tr>\n",
       "    <tr>\n",
       "      <td>4</td>\n",
       "      <td>0</td>\n",
       "      <td>0</td>\n",
       "      <td>0</td>\n",
       "    </tr>\n",
       "  </tbody>\n",
       "</table>\n",
       "</div>"
      ],
      "text/plain": [
       "   checkin_acc_A12  checkin_acc_A13  checkin_acc_A14\n",
       "0                0                0                0\n",
       "1                1                0                0\n",
       "2                0                0                1\n",
       "3                0                0                0\n",
       "4                0                0                0"
      ]
     },
     "execution_count": 5,
     "metadata": {},
     "output_type": "execute_result"
    }
   ],
   "source": [
    "encoded_credit_df[[\"checkin_acc_A12\", \"checkin_acc_A13\", \"checkin_acc_A14\"]].head(5)"
   ]
  },
  {
   "cell_type": "code",
   "execution_count": 6,
   "metadata": {},
   "outputs": [
    {
     "name": "stderr",
     "output_type": "stream",
     "text": [
      "C:\\Users\\LENOVO\\Anaconda3\\lib\\site-packages\\numpy\\core\\fromnumeric.py:2389: FutureWarning: Method .ptp is deprecated and will be removed in a future version. Use numpy.ptp instead.\n",
      "  return ptp(axis=axis, out=out, **kwargs)\n"
     ]
    }
   ],
   "source": [
    "import statsmodels.api as sm\n",
    "Y = credit_df.status\n",
    "X = sm.add_constant(encoded_credit_df)"
   ]
  },
  {
   "cell_type": "code",
   "execution_count": 9,
   "metadata": {},
   "outputs": [],
   "source": [
    "from sklearn.model_selection import train_test_split\n",
    "X_train,X_test,y_train,y_test = train_test_split(X, Y,test_size = 0.3,random_state = 42)"
   ]
  },
  {
   "cell_type": "code",
   "execution_count": 10,
   "metadata": {},
   "outputs": [
    {
     "name": "stdout",
     "output_type": "stream",
     "text": [
      "Optimization terminated successfully.\n",
      "         Current function value: 0.488938\n",
      "         Iterations 6\n"
     ]
    }
   ],
   "source": [
    "import statsmodels.api as sm\n",
    "logit = sm.Logit(y_train, X_train) \n",
    "logit_model = logit.fit()"
   ]
  },
  {
   "cell_type": "code",
   "execution_count": 11,
   "metadata": {},
   "outputs": [
    {
     "data": {
      "text/html": [
       "<table class=\"simpletable\">\n",
       "<tr>\n",
       "        <td>Model:</td>              <td>Logit</td>      <td>Pseudo R-squared:</td>    <td>0.198</td>  \n",
       "</tr>\n",
       "<tr>\n",
       "  <td>Dependent Variable:</td>      <td>status</td>            <td>AIC:</td>         <td>744.5132</td> \n",
       "</tr>\n",
       "<tr>\n",
       "         <td>Date:</td>        <td>2021-09-29 18:19</td>       <td>BIC:</td>         <td>881.0456</td> \n",
       "</tr>\n",
       "<tr>\n",
       "   <td>No. Observations:</td>         <td>700</td>        <td>Log-Likelihood:</td>    <td>-342.26</td> \n",
       "</tr>\n",
       "<tr>\n",
       "       <td>Df Model:</td>             <td>29</td>            <td>LL-Null:</td>        <td>-426.75</td> \n",
       "</tr>\n",
       "<tr>\n",
       "     <td>Df Residuals:</td>           <td>670</td>         <td>LLR p-value:</td>    <td>1.0630e-21</td>\n",
       "</tr>\n",
       "<tr>\n",
       "      <td>Converged:</td>           <td>1.0000</td>           <td>Scale:</td>         <td>1.0000</td>  \n",
       "</tr>\n",
       "<tr>\n",
       "    <td>No. Iterations:</td>        <td>6.0000</td>              <td></td>               <td></td>     \n",
       "</tr>\n",
       "</table>\n",
       "<table class=\"simpletable\">\n",
       "<tr>\n",
       "            <td></td>             <th>Coef.</th>  <th>Std.Err.</th>    <th>z</th>     <th>P>|z|</th> <th>[0.025</th>  <th>0.975]</th> \n",
       "</tr>\n",
       "<tr>\n",
       "  <th>const</th>                 <td>-0.1511</td>  <td>1.1349</td>  <td>-0.1331</td> <td>0.8941</td> <td>-2.3754</td> <td>2.0733</td> \n",
       "</tr>\n",
       "<tr>\n",
       "  <th>duration</th>              <td>0.0206</td>   <td>0.0104</td>  <td>1.9927</td>  <td>0.0463</td> <td>0.0003</td>  <td>0.0409</td> \n",
       "</tr>\n",
       "<tr>\n",
       "  <th>amount</th>                <td>0.0001</td>   <td>0.0000</td>  <td>2.3765</td>  <td>0.0175</td> <td>0.0000</td>  <td>0.0002</td> \n",
       "</tr>\n",
       "<tr>\n",
       "  <th>inst_rate</th>             <td>0.3064</td>   <td>0.0986</td>  <td>3.1083</td>  <td>0.0019</td> <td>0.1132</td>  <td>0.4996</td> \n",
       "</tr>\n",
       "<tr>\n",
       "  <th>residing_since</th>        <td>0.0967</td>   <td>0.0920</td>  <td>1.0511</td>  <td>0.2932</td> <td>-0.0836</td> <td>0.2771</td> \n",
       "</tr>\n",
       "<tr>\n",
       "  <th>age</th>                   <td>-0.0227</td>  <td>0.0103</td>  <td>-2.2131</td> <td>0.0269</td> <td>-0.0428</td> <td>-0.0026</td>\n",
       "</tr>\n",
       "<tr>\n",
       "  <th>num_credits</th>           <td>0.2854</td>   <td>0.2139</td>  <td>1.3342</td>  <td>0.1821</td> <td>-0.1338</td> <td>0.7045</td> \n",
       "</tr>\n",
       "<tr>\n",
       "  <th>checkin_acc_A12</th>       <td>-0.4126</td>  <td>0.2391</td>  <td>-1.7260</td> <td>0.0843</td> <td>-0.8812</td> <td>0.0559</td> \n",
       "</tr>\n",
       "<tr>\n",
       "  <th>checkin_acc_A13</th>       <td>-0.9053</td>  <td>0.4338</td>  <td>-2.0868</td> <td>0.0369</td> <td>-1.7556</td> <td>-0.0550</td>\n",
       "</tr>\n",
       "<tr>\n",
       "  <th>checkin_acc_A14</th>       <td>-1.6052</td>  <td>0.2586</td>  <td>-6.2073</td> <td>0.0000</td> <td>-2.1120</td> <td>-1.0983</td>\n",
       "</tr>\n",
       "<tr>\n",
       "  <th>credit_history_A31</th>    <td>0.1532</td>   <td>0.5795</td>  <td>0.2643</td>  <td>0.7916</td> <td>-0.9827</td> <td>1.2890</td> \n",
       "</tr>\n",
       "<tr>\n",
       "  <th>credit_history_A32</th>    <td>-0.4960</td>  <td>0.4411</td>  <td>-1.1245</td> <td>0.2608</td> <td>-1.3604</td> <td>0.3685</td> \n",
       "</tr>\n",
       "<tr>\n",
       "  <th>credit_history_A33</th>    <td>-0.8881</td>  <td>0.5022</td>  <td>-1.7683</td> <td>0.0770</td> <td>-1.8724</td> <td>0.0962</td> \n",
       "</tr>\n",
       "<tr>\n",
       "  <th>credit_history_A34</th>    <td>-1.4124</td>  <td>0.4528</td>  <td>-3.1190</td> <td>0.0018</td> <td>-2.2999</td> <td>-0.5249</td>\n",
       "</tr>\n",
       "<tr>\n",
       "  <th>savings_acc_A62</th>       <td>-0.0496</td>  <td>0.3208</td>  <td>-0.1545</td> <td>0.8772</td> <td>-0.6782</td> <td>0.5791</td> \n",
       "</tr>\n",
       "<tr>\n",
       "  <th>savings_acc_A63</th>       <td>-0.6640</td>  <td>0.4818</td>  <td>-1.3779</td> <td>0.1682</td> <td>-1.6084</td> <td>0.2804</td> \n",
       "</tr>\n",
       "<tr>\n",
       "  <th>savings_acc_A64</th>       <td>-1.1099</td>  <td>0.6019</td>  <td>-1.8439</td> <td>0.0652</td> <td>-2.2896</td> <td>0.0699</td> \n",
       "</tr>\n",
       "<tr>\n",
       "  <th>savings_acc_A65</th>       <td>-0.6061</td>  <td>0.2745</td>  <td>-2.2080</td> <td>0.0272</td> <td>-1.1441</td> <td>-0.0681</td>\n",
       "</tr>\n",
       "<tr>\n",
       "  <th>present_emp_since_A72</th> <td>0.0855</td>   <td>0.4722</td>  <td>0.1810</td>  <td>0.8564</td> <td>-0.8401</td> <td>1.0110</td> \n",
       "</tr>\n",
       "<tr>\n",
       "  <th>present_emp_since_A73</th> <td>-0.0339</td>  <td>0.4492</td>  <td>-0.0754</td> <td>0.9399</td> <td>-0.9142</td> <td>0.8465</td> \n",
       "</tr>\n",
       "<tr>\n",
       "  <th>present_emp_since_A74</th> <td>-0.3789</td>  <td>0.4790</td>  <td>-0.7910</td> <td>0.4289</td> <td>-1.3178</td> <td>0.5600</td> \n",
       "</tr>\n",
       "<tr>\n",
       "  <th>present_emp_since_A75</th> <td>-0.2605</td>  <td>0.4554</td>  <td>-0.5721</td> <td>0.5673</td> <td>-1.1532</td> <td>0.6321</td> \n",
       "</tr>\n",
       "<tr>\n",
       "  <th>personal_status_A92</th>   <td>-0.0069</td>  <td>0.4841</td>  <td>-0.0142</td> <td>0.9887</td> <td>-0.9557</td> <td>0.9419</td> \n",
       "</tr>\n",
       "<tr>\n",
       "  <th>personal_status_A93</th>   <td>-0.4426</td>  <td>0.4764</td>  <td>-0.9291</td> <td>0.3528</td> <td>-1.3762</td> <td>0.4911</td> \n",
       "</tr>\n",
       "<tr>\n",
       "  <th>personal_status_A94</th>   <td>-0.3080</td>  <td>0.5554</td>  <td>-0.5546</td> <td>0.5792</td> <td>-1.3967</td> <td>0.7806</td> \n",
       "</tr>\n",
       "<tr>\n",
       "  <th>inst_plans_A142</th>       <td>-0.2976</td>  <td>0.5157</td>  <td>-0.5772</td> <td>0.5638</td> <td>-1.3084</td> <td>0.7131</td> \n",
       "</tr>\n",
       "<tr>\n",
       "  <th>inst_plans_A143</th>       <td>-0.4458</td>  <td>0.2771</td>  <td>-1.6086</td> <td>0.1077</td> <td>-0.9889</td> <td>0.0974</td> \n",
       "</tr>\n",
       "<tr>\n",
       "  <th>job_A172</th>              <td>-0.0955</td>  <td>0.7681</td>  <td>-0.1243</td> <td>0.9011</td> <td>-1.6009</td> <td>1.4100</td> \n",
       "</tr>\n",
       "<tr>\n",
       "  <th>job_A173</th>              <td>-0.0198</td>  <td>0.7378</td>  <td>-0.0269</td> <td>0.9786</td> <td>-1.4658</td> <td>1.4262</td> \n",
       "</tr>\n",
       "<tr>\n",
       "  <th>job_A174</th>              <td>-0.0428</td>  <td>0.7371</td>  <td>-0.0581</td> <td>0.9537</td> <td>-1.4876</td> <td>1.4019</td> \n",
       "</tr>\n",
       "</table>"
      ],
      "text/plain": [
       "<class 'statsmodels.iolib.summary2.Summary'>\n",
       "\"\"\"\n",
       "                           Results: Logit\n",
       "=====================================================================\n",
       "Model:                Logit             Pseudo R-squared:  0.198     \n",
       "Dependent Variable:   status            AIC:               744.5132  \n",
       "Date:                 2021-09-29 18:19  BIC:               881.0456  \n",
       "No. Observations:     700               Log-Likelihood:    -342.26   \n",
       "Df Model:             29                LL-Null:           -426.75   \n",
       "Df Residuals:         670               LLR p-value:       1.0630e-21\n",
       "Converged:            1.0000            Scale:             1.0000    \n",
       "No. Iterations:       6.0000                                         \n",
       "---------------------------------------------------------------------\n",
       "                       Coef.  Std.Err.    z    P>|z|   [0.025  0.975]\n",
       "---------------------------------------------------------------------\n",
       "const                 -0.1511   1.1349 -0.1331 0.8941 -2.3754  2.0733\n",
       "duration               0.0206   0.0104  1.9927 0.0463  0.0003  0.0409\n",
       "amount                 0.0001   0.0000  2.3765 0.0175  0.0000  0.0002\n",
       "inst_rate              0.3064   0.0986  3.1083 0.0019  0.1132  0.4996\n",
       "residing_since         0.0967   0.0920  1.0511 0.2932 -0.0836  0.2771\n",
       "age                   -0.0227   0.0103 -2.2131 0.0269 -0.0428 -0.0026\n",
       "num_credits            0.2854   0.2139  1.3342 0.1821 -0.1338  0.7045\n",
       "checkin_acc_A12       -0.4126   0.2391 -1.7260 0.0843 -0.8812  0.0559\n",
       "checkin_acc_A13       -0.9053   0.4338 -2.0868 0.0369 -1.7556 -0.0550\n",
       "checkin_acc_A14       -1.6052   0.2586 -6.2073 0.0000 -2.1120 -1.0983\n",
       "credit_history_A31     0.1532   0.5795  0.2643 0.7916 -0.9827  1.2890\n",
       "credit_history_A32    -0.4960   0.4411 -1.1245 0.2608 -1.3604  0.3685\n",
       "credit_history_A33    -0.8881   0.5022 -1.7683 0.0770 -1.8724  0.0962\n",
       "credit_history_A34    -1.4124   0.4528 -3.1190 0.0018 -2.2999 -0.5249\n",
       "savings_acc_A62       -0.0496   0.3208 -0.1545 0.8772 -0.6782  0.5791\n",
       "savings_acc_A63       -0.6640   0.4818 -1.3779 0.1682 -1.6084  0.2804\n",
       "savings_acc_A64       -1.1099   0.6019 -1.8439 0.0652 -2.2896  0.0699\n",
       "savings_acc_A65       -0.6061   0.2745 -2.2080 0.0272 -1.1441 -0.0681\n",
       "present_emp_since_A72  0.0855   0.4722  0.1810 0.8564 -0.8401  1.0110\n",
       "present_emp_since_A73 -0.0339   0.4492 -0.0754 0.9399 -0.9142  0.8465\n",
       "present_emp_since_A74 -0.3789   0.4790 -0.7910 0.4289 -1.3178  0.5600\n",
       "present_emp_since_A75 -0.2605   0.4554 -0.5721 0.5673 -1.1532  0.6321\n",
       "personal_status_A92   -0.0069   0.4841 -0.0142 0.9887 -0.9557  0.9419\n",
       "personal_status_A93   -0.4426   0.4764 -0.9291 0.3528 -1.3762  0.4911\n",
       "personal_status_A94   -0.3080   0.5554 -0.5546 0.5792 -1.3967  0.7806\n",
       "inst_plans_A142       -0.2976   0.5157 -0.5772 0.5638 -1.3084  0.7131\n",
       "inst_plans_A143       -0.4458   0.2771 -1.6086 0.1077 -0.9889  0.0974\n",
       "job_A172              -0.0955   0.7681 -0.1243 0.9011 -1.6009  1.4100\n",
       "job_A173              -0.0198   0.7378 -0.0269 0.9786 -1.4658  1.4262\n",
       "job_A174              -0.0428   0.7371 -0.0581 0.9537 -1.4876  1.4019\n",
       "=====================================================================\n",
       "\n",
       "\"\"\""
      ]
     },
     "execution_count": 11,
     "metadata": {},
     "output_type": "execute_result"
    }
   ],
   "source": [
    "logit_model.summary2()"
   ]
  },
  {
   "cell_type": "code",
   "execution_count": 13,
   "metadata": {},
   "outputs": [],
   "source": [
    "def get_significant_vars( lm ):\n",
    "    var_p_vals_df = pd.DataFrame( lm.pvalues ) \n",
    "    var_p_vals_df[\"vars\"] = var_p_vals_df.index \n",
    "    var_p_vals_df.columns = [\"pvals\", \"vars\"]\n",
    "    return list( var_p_vals_df[var_p_vals_df.pvals <= 0.05][\"vars\"] )"
   ]
  },
  {
   "cell_type": "code",
   "execution_count": 14,
   "metadata": {},
   "outputs": [
    {
     "data": {
      "text/plain": [
       "['duration',\n",
       " 'amount',\n",
       " 'inst_rate',\n",
       " 'age',\n",
       " 'checkin_acc_A13',\n",
       " 'checkin_acc_A14',\n",
       " 'credit_history_A34',\n",
       " 'savings_acc_A65']"
      ]
     },
     "execution_count": 14,
     "metadata": {},
     "output_type": "execute_result"
    }
   ],
   "source": [
    "significant_vars = get_significant_vars( logit_model )\n",
    "significant_vars"
   ]
  },
  {
   "cell_type": "markdown",
   "metadata": {},
   "source": [
    "### Only the features ‘duration’, ‘amount’, ‘inst_rate’, ‘age’, ‘checkin_acc_A13’, ‘checkin_acc_A14’, ‘credit_history_A34’, ‘savings_acc_A65’ have come out as significant variables. "
   ]
  },
  {
   "cell_type": "code",
   "execution_count": 16,
   "metadata": {},
   "outputs": [
    {
     "name": "stdout",
     "output_type": "stream",
     "text": [
      "Optimization terminated successfully.\n",
      "         Current function value: 0.511350\n",
      "         Iterations 6\n"
     ]
    }
   ],
   "source": [
    "final_logit = sm.Logit( y_train, \n",
    "sm.add_constant( X_train [significant_vars] ) ).fit()"
   ]
  },
  {
   "cell_type": "code",
   "execution_count": 17,
   "metadata": {},
   "outputs": [
    {
     "data": {
      "text/html": [
       "<table class=\"simpletable\">\n",
       "<tr>\n",
       "        <td>Model:</td>              <td>Logit</td>      <td>Pseudo R-squared:</td>    <td>0.161</td>  \n",
       "</tr>\n",
       "<tr>\n",
       "  <td>Dependent Variable:</td>      <td>status</td>            <td>AIC:</td>         <td>733.8898</td> \n",
       "</tr>\n",
       "<tr>\n",
       "         <td>Date:</td>        <td>2021-09-29 18:22</td>       <td>BIC:</td>         <td>774.8495</td> \n",
       "</tr>\n",
       "<tr>\n",
       "   <td>No. Observations:</td>         <td>700</td>        <td>Log-Likelihood:</td>    <td>-357.94</td> \n",
       "</tr>\n",
       "<tr>\n",
       "       <td>Df Model:</td>              <td>8</td>            <td>LL-Null:</td>        <td>-426.75</td> \n",
       "</tr>\n",
       "<tr>\n",
       "     <td>Df Residuals:</td>           <td>691</td>         <td>LLR p-value:</td>    <td>7.4185e-26</td>\n",
       "</tr>\n",
       "<tr>\n",
       "      <td>Converged:</td>           <td>1.0000</td>           <td>Scale:</td>         <td>1.0000</td>  \n",
       "</tr>\n",
       "<tr>\n",
       "    <td>No. Iterations:</td>        <td>6.0000</td>              <td></td>               <td></td>     \n",
       "</tr>\n",
       "</table>\n",
       "<table class=\"simpletable\">\n",
       "<tr>\n",
       "           <td></td>           <th>Coef.</th>  <th>Std.Err.</th>    <th>z</th>     <th>P>|z|</th> <th>[0.025</th>  <th>0.975]</th> \n",
       "</tr>\n",
       "<tr>\n",
       "  <th>const</th>              <td>-0.8969</td>  <td>0.4364</td>  <td>-2.0551</td> <td>0.0399</td> <td>-1.7523</td> <td>-0.0415</td>\n",
       "</tr>\n",
       "<tr>\n",
       "  <th>duration</th>           <td>0.0197</td>   <td>0.0098</td>  <td>2.0033</td>  <td>0.0451</td> <td>0.0004</td>  <td>0.0390</td> \n",
       "</tr>\n",
       "<tr>\n",
       "  <th>amount</th>             <td>0.0001</td>   <td>0.0000</td>  <td>2.3205</td>  <td>0.0203</td> <td>0.0000</td>  <td>0.0002</td> \n",
       "</tr>\n",
       "<tr>\n",
       "  <th>inst_rate</th>          <td>0.2811</td>   <td>0.0929</td>  <td>3.0264</td>  <td>0.0025</td> <td>0.0991</td>  <td>0.4632</td> \n",
       "</tr>\n",
       "<tr>\n",
       "  <th>age</th>                <td>-0.0216</td>  <td>0.0089</td>  <td>-2.4207</td> <td>0.0155</td> <td>-0.0392</td> <td>-0.0041</td>\n",
       "</tr>\n",
       "<tr>\n",
       "  <th>checkin_acc_A13</th>    <td>-0.8038</td>  <td>0.4081</td>  <td>-1.9697</td> <td>0.0489</td> <td>-1.6037</td> <td>-0.0040</td>\n",
       "</tr>\n",
       "<tr>\n",
       "  <th>checkin_acc_A14</th>    <td>-1.5452</td>  <td>0.2187</td>  <td>-7.0649</td> <td>0.0000</td> <td>-1.9738</td> <td>-1.1165</td>\n",
       "</tr>\n",
       "<tr>\n",
       "  <th>credit_history_A34</th> <td>-0.8781</td>  <td>0.2319</td>  <td>-3.7858</td> <td>0.0002</td> <td>-1.3327</td> <td>-0.4235</td>\n",
       "</tr>\n",
       "<tr>\n",
       "  <th>savings_acc_A65</th>    <td>-0.5448</td>  <td>0.2581</td>  <td>-2.1108</td> <td>0.0348</td> <td>-1.0507</td> <td>-0.0389</td>\n",
       "</tr>\n",
       "</table>"
      ],
      "text/plain": [
       "<class 'statsmodels.iolib.summary2.Summary'>\n",
       "\"\"\"\n",
       "                          Results: Logit\n",
       "==================================================================\n",
       "Model:               Logit            Pseudo R-squared: 0.161     \n",
       "Dependent Variable:  status           AIC:              733.8898  \n",
       "Date:                2021-09-29 18:22 BIC:              774.8495  \n",
       "No. Observations:    700              Log-Likelihood:   -357.94   \n",
       "Df Model:            8                LL-Null:          -426.75   \n",
       "Df Residuals:        691              LLR p-value:      7.4185e-26\n",
       "Converged:           1.0000           Scale:            1.0000    \n",
       "No. Iterations:      6.0000                                       \n",
       "------------------------------------------------------------------\n",
       "                    Coef.  Std.Err.    z    P>|z|   [0.025  0.975]\n",
       "------------------------------------------------------------------\n",
       "const              -0.8969   0.4364 -2.0551 0.0399 -1.7523 -0.0415\n",
       "duration            0.0197   0.0098  2.0033 0.0451  0.0004  0.0390\n",
       "amount              0.0001   0.0000  2.3205 0.0203  0.0000  0.0002\n",
       "inst_rate           0.2811   0.0929  3.0264 0.0025  0.0991  0.4632\n",
       "age                -0.0216   0.0089 -2.4207 0.0155 -0.0392 -0.0041\n",
       "checkin_acc_A13    -0.8038   0.4081 -1.9697 0.0489 -1.6037 -0.0040\n",
       "checkin_acc_A14    -1.5452   0.2187 -7.0649 0.0000 -1.9738 -1.1165\n",
       "credit_history_A34 -0.8781   0.2319 -3.7858 0.0002 -1.3327 -0.4235\n",
       "savings_acc_A65    -0.5448   0.2581 -2.1108 0.0348 -1.0507 -0.0389\n",
       "==================================================================\n",
       "\n",
       "\"\"\""
      ]
     },
     "execution_count": 17,
     "metadata": {},
     "output_type": "execute_result"
    }
   ],
   "source": [
    "final_logit.summary2()"
   ]
  },
  {
   "cell_type": "code",
   "execution_count": 18,
   "metadata": {},
   "outputs": [],
   "source": [
    "y_pred_df= pd.DataFrame( {\"actual\": y_test,\"predicted_prob\": final_logit.predict( sm.add_constant( X_test[significant_vars]))})"
   ]
  },
  {
   "cell_type": "code",
   "execution_count": 19,
   "metadata": {},
   "outputs": [
    {
     "data": {
      "text/html": [
       "<div>\n",
       "<style scoped>\n",
       "    .dataframe tbody tr th:only-of-type {\n",
       "        vertical-align: middle;\n",
       "    }\n",
       "\n",
       "    .dataframe tbody tr th {\n",
       "        vertical-align: top;\n",
       "    }\n",
       "\n",
       "    .dataframe thead th {\n",
       "        text-align: right;\n",
       "    }\n",
       "</style>\n",
       "<table border=\"1\" class=\"dataframe\">\n",
       "  <thead>\n",
       "    <tr style=\"text-align: right;\">\n",
       "      <th></th>\n",
       "      <th>actual</th>\n",
       "      <th>predicted_prob</th>\n",
       "    </tr>\n",
       "  </thead>\n",
       "  <tbody>\n",
       "    <tr>\n",
       "      <td>557</td>\n",
       "      <td>1</td>\n",
       "      <td>0.080493</td>\n",
       "    </tr>\n",
       "    <tr>\n",
       "      <td>798</td>\n",
       "      <td>0</td>\n",
       "      <td>0.076653</td>\n",
       "    </tr>\n",
       "    <tr>\n",
       "      <td>977</td>\n",
       "      <td>0</td>\n",
       "      <td>0.345979</td>\n",
       "    </tr>\n",
       "    <tr>\n",
       "      <td>136</td>\n",
       "      <td>0</td>\n",
       "      <td>0.249919</td>\n",
       "    </tr>\n",
       "    <tr>\n",
       "      <td>575</td>\n",
       "      <td>0</td>\n",
       "      <td>0.062264</td>\n",
       "    </tr>\n",
       "    <tr>\n",
       "      <td>544</td>\n",
       "      <td>0</td>\n",
       "      <td>0.040768</td>\n",
       "    </tr>\n",
       "    <tr>\n",
       "      <td>332</td>\n",
       "      <td>1</td>\n",
       "      <td>0.833093</td>\n",
       "    </tr>\n",
       "    <tr>\n",
       "      <td>917</td>\n",
       "      <td>1</td>\n",
       "      <td>0.370667</td>\n",
       "    </tr>\n",
       "    <tr>\n",
       "      <td>678</td>\n",
       "      <td>0</td>\n",
       "      <td>0.388392</td>\n",
       "    </tr>\n",
       "    <tr>\n",
       "      <td>363</td>\n",
       "      <td>0</td>\n",
       "      <td>0.088952</td>\n",
       "    </tr>\n",
       "  </tbody>\n",
       "</table>\n",
       "</div>"
      ],
      "text/plain": [
       "     actual  predicted_prob\n",
       "557       1        0.080493\n",
       "798       0        0.076653\n",
       "977       0        0.345979\n",
       "136       0        0.249919\n",
       "575       0        0.062264\n",
       "544       0        0.040768\n",
       "332       1        0.833093\n",
       "917       1        0.370667\n",
       "678       0        0.388392\n",
       "363       0        0.088952"
      ]
     },
     "execution_count": 19,
     "metadata": {},
     "output_type": "execute_result"
    }
   ],
   "source": [
    "y_pred_df.sample(10, random_state = 42)"
   ]
  },
  {
   "cell_type": "code",
   "execution_count": 20,
   "metadata": {},
   "outputs": [
    {
     "data": {
      "text/html": [
       "<div>\n",
       "<style scoped>\n",
       "    .dataframe tbody tr th:only-of-type {\n",
       "        vertical-align: middle;\n",
       "    }\n",
       "\n",
       "    .dataframe tbody tr th {\n",
       "        vertical-align: top;\n",
       "    }\n",
       "\n",
       "    .dataframe thead th {\n",
       "        text-align: right;\n",
       "    }\n",
       "</style>\n",
       "<table border=\"1\" class=\"dataframe\">\n",
       "  <thead>\n",
       "    <tr style=\"text-align: right;\">\n",
       "      <th></th>\n",
       "      <th>actual</th>\n",
       "      <th>predicted_prob</th>\n",
       "      <th>predicted</th>\n",
       "    </tr>\n",
       "  </thead>\n",
       "  <tbody>\n",
       "    <tr>\n",
       "      <td>557</td>\n",
       "      <td>1</td>\n",
       "      <td>0.080493</td>\n",
       "      <td>0</td>\n",
       "    </tr>\n",
       "    <tr>\n",
       "      <td>798</td>\n",
       "      <td>0</td>\n",
       "      <td>0.076653</td>\n",
       "      <td>0</td>\n",
       "    </tr>\n",
       "    <tr>\n",
       "      <td>977</td>\n",
       "      <td>0</td>\n",
       "      <td>0.345979</td>\n",
       "      <td>0</td>\n",
       "    </tr>\n",
       "    <tr>\n",
       "      <td>136</td>\n",
       "      <td>0</td>\n",
       "      <td>0.249919</td>\n",
       "      <td>0</td>\n",
       "    </tr>\n",
       "    <tr>\n",
       "      <td>575</td>\n",
       "      <td>0</td>\n",
       "      <td>0.062264</td>\n",
       "      <td>0</td>\n",
       "    </tr>\n",
       "    <tr>\n",
       "      <td>544</td>\n",
       "      <td>0</td>\n",
       "      <td>0.040768</td>\n",
       "      <td>0</td>\n",
       "    </tr>\n",
       "    <tr>\n",
       "      <td>332</td>\n",
       "      <td>1</td>\n",
       "      <td>0.833093</td>\n",
       "      <td>1</td>\n",
       "    </tr>\n",
       "    <tr>\n",
       "      <td>917</td>\n",
       "      <td>1</td>\n",
       "      <td>0.370667</td>\n",
       "      <td>0</td>\n",
       "    </tr>\n",
       "    <tr>\n",
       "      <td>678</td>\n",
       "      <td>0</td>\n",
       "      <td>0.388392</td>\n",
       "      <td>0</td>\n",
       "    </tr>\n",
       "    <tr>\n",
       "      <td>363</td>\n",
       "      <td>0</td>\n",
       "      <td>0.088952</td>\n",
       "      <td>0</td>\n",
       "    </tr>\n",
       "  </tbody>\n",
       "</table>\n",
       "</div>"
      ],
      "text/plain": [
       "     actual  predicted_prob  predicted\n",
       "557       1        0.080493          0\n",
       "798       0        0.076653          0\n",
       "977       0        0.345979          0\n",
       "136       0        0.249919          0\n",
       "575       0        0.062264          0\n",
       "544       0        0.040768          0\n",
       "332       1        0.833093          1\n",
       "917       1        0.370667          0\n",
       "678       0        0.388392          0\n",
       "363       0        0.088952          0"
      ]
     },
     "execution_count": 20,
     "metadata": {},
     "output_type": "execute_result"
    }
   ],
   "source": [
    "y_pred_df[\"predicted\"] = y_pred_df.predicted_prob.map( lambda x: 1 if x > 0.5 else 0)\n",
    "y_pred_df.sample(10, random_state = 42)"
   ]
  },
  {
   "cell_type": "markdown",
   "metadata": {},
   "source": [
    "### Creating a Confusion Matrix"
   ]
  },
  {
   "cell_type": "code",
   "execution_count": 21,
   "metadata": {},
   "outputs": [],
   "source": [
    "import matplotlib.pyplot as plt \n",
    "import seaborn as sn\n",
    "%matplotlib inline"
   ]
  },
  {
   "cell_type": "code",
   "execution_count": 83,
   "metadata": {},
   "outputs": [],
   "source": [
    "def draw_cm( actual, predicted ): \n",
    "    cm = metrics.confusion_matrix( actual, predicted, [1,0] )\n",
    "    fig, ax = plt.subplots(figsize=(8,8))\n",
    "    sn.heatmap(cm, annot=True,fmt='g', center=0.5,linewidths=0.5,ax = ax ,xticklabels = [\"Bad credit\", \"Good Credit\"] , yticklabels = [\"Bad credit\", \"Good Credit\"] ) \n",
    "    plt.ylabel('True label') \n",
    "    plt.xlabel('Predicted label') \n",
    "    plt.show() \n",
    "    \n"
   ]
  },
  {
   "cell_type": "code",
   "execution_count": 84,
   "metadata": {},
   "outputs": [
    {
     "data": {
      "image/png": "[encoded data removed]",
      "text/plain": [
       "<Figure size 576x576 with 2 Axes>"
      ]
     },
     "metadata": {},
     "output_type": "display_data"
    }
   ],
   "source": [
    "draw_cm( y_pred_df.actual, y_pred_df.predicted )"
   ]
  },
  {
   "cell_type": "code",
   "execution_count": null,
   "metadata": {},
   "outputs": [],
   "source": []
  }
 ],
 "metadata": {
  "kernelspec": {
   "display_name": "Python 3",
   "language": "python",
   "name": "python3"
  },
  "language_info": {
   "codemirror_mode": {
    "name": "ipython",
    "version": 3
   },
   "file_extension": ".py",
   "mimetype": "text/x-python",
   "name": "python",
   "nbconvert_exporter": "python",
   "pygments_lexer": "ipython3",
   "version": "3.7.4"
  }
 },
 "nbformat": 4,
 "nbformat_minor": 4
}
